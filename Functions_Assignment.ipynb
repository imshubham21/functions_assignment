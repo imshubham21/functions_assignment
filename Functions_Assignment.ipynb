{
 "cells": [
  {
   "cell_type": "markdown",
   "id": "ed78504d-9155-44e6-8105-8d3f552323e1",
   "metadata": {},
   "source": [
    "# Theory Questions :-"
   ]
  },
  {
   "cell_type": "markdown",
   "id": "e1cdcc92-5fae-4b70-9bae-d3611b6c0f32",
   "metadata": {},
   "source": [
    "## 1. What is the difference between a function and a method in Python ?"
   ]
  },
  {
   "cell_type": "markdown",
   "id": "7c846093-e137-48da-84cc-4732ad678332",
   "metadata": {},
   "source": [
    "#### In Python, the difference between a function and a method is primarily based on where and how they are used:\n"
   ]
  },
  {
   "cell_type": "markdown",
   "id": "28450bdc-da9f-40e2-b762-eade39a18687",
   "metadata": {},
   "source": [
    "#### i. Function \n",
    "   - A function is a standalone block of code that performs a specific task.\n",
    "   - It can be called independently without being associated with any object.\n",
    "   - Functions are defined using the def keyword.\n",
    "   - Example :-\n"
   ]
  },
  {
   "cell_type": "code",
   "execution_count": 9,
   "id": "d44937c8-79d0-4d22-8eeb-621436ceafbc",
   "metadata": {},
   "outputs": [
    {
     "name": "stdout",
     "output_type": "stream",
     "text": [
      "This is a function.\n"
     ]
    }
   ],
   "source": [
    "\n",
    "     def my_function():\n",
    "         print(\"This is a function.\")\n",
    "     my_function()  # Call the function\n"
   ]
  },
  {
   "cell_type": "markdown",
   "id": "3b2111f3-1026-4edb-8a41-dff4056bb6bb",
   "metadata": {},
   "source": [
    "#### ii. Method"
   ]
  },
  {
   "cell_type": "markdown",
   "id": "6bee5b8c-d578-4bb0-8111-02b952de018a",
   "metadata": {},
   "source": [
    "   - A method is a function that is associated with an object or class.\n",
    "   - It can only be called on an object (an instance of a class) and typically operates on the data within that object.\n",
    "   - Methods are also defined using the def keyword, but inside a class definition.\n",
    "   - Example:\n"
   ]
  },
  {
   "cell_type": "code",
   "execution_count": 18,
   "id": "8b6568f0-5395-484f-861f-d99d8f56e3c3",
   "metadata": {},
   "outputs": [
    {
     "name": "stdout",
     "output_type": "stream",
     "text": [
      "This is a method.\n"
     ]
    }
   ],
   "source": [
    "     class MyClass:\n",
    "         def my_method(self):\n",
    "             print(\"This is a method.\")\n",
    "     obj = MyClass()  # Create an object of MyClass\n",
    "     obj.my_method()  # Call the method on the object\n",
    "\n"
   ]
  },
  {
   "cell_type": "markdown",
   "id": "a7a953f4-9ce3-488b-a6d5-3996bf011f8d",
   "metadata": {},
   "source": [
    "### Summary:\n",
    "- A *function* is independent and can be called by its name.\n",
    "- A *method* is associated with an object and requires an instance of a class to be called."
   ]
  },
  {
   "cell_type": "markdown",
   "id": "93d2e990-8753-4df6-bf57-e65c551327f8",
   "metadata": {},
   "source": [
    "## 2. Explain the concept of function arguements and parameters in Python."
   ]
  },
  {
   "cell_type": "markdown",
   "id": "7ed194c3-78ec-48e1-a827-0d02940d7396",
   "metadata": {},
   "source": [
    "Function arguments and parameters are fundamental concepts used when defining and calling functions :-"
   ]
  },
  {
   "cell_type": "markdown",
   "id": "9a443e7b-75cd-4a88-a936-366ed088282f",
   "metadata": {},
   "source": [
    "#### 1. Parameters:\n",
    "   - Parameters are the names specified in the function definition that act as placeholders for the values that will be passed to the function. They define what kind of input a function expects when it's called.\n",
    "   - For example:"
   ]
  },
  {
   "cell_type": "code",
   "execution_count": 40,
   "id": "7b4caf45-d4c6-43f5-a344-7a1da838cd69",
   "metadata": {},
   "outputs": [
    {
     "name": "stdout",
     "output_type": "stream",
     "text": [
      "Hello, Saumya\n"
     ]
    }
   ],
   "source": [
    "def greet(name):  # 'name' is a parameter\n",
    "    print(f\"Hello, {name}\")\n",
    "greet(\"Saumya\")\n",
    "         "
   ]
  },
  {
   "cell_type": "markdown",
   "id": "bd190a5b-1401-40ec-b993-bab276dd0530",
   "metadata": {},
   "source": [
    "#### 2. Arguments:\n",
    "   - Arguments are the actual values or data you pass to a function when calling it. They replace the parameters in the function definition.\n",
    "   - For example:\n",
    "     python\n",
    "     greet(\"Saumya\")  # 'Saumya' is the argument passed to the function\n",
    "     \n",
    "   - Here, \"Saumya\" replaces the name parameter when the function greet is called"
   ]
  },
  {
   "cell_type": "markdown",
   "id": "c574e63b-a9a5-495b-8d9c-f5d05ac4270a",
   "metadata": {},
   "source": [
    "#### Types of Arguments:\n",
    "   Python allows various ways to pass arguments into functions:\n"
   ]
  },
  {
   "cell_type": "markdown",
   "id": "c74edc4d-6449-4a74-9eb1-4bc8f7ee58c4",
   "metadata": {},
   "source": [
    "#### i. Positional Arguments :\n",
    "      - These are passed to the function in the order they are defined "
   ]
  },
  {
   "cell_type": "code",
   "execution_count": 56,
   "id": "45f066aa-97a2-48b0-b59a-4e4b9b7c8135",
   "metadata": {},
   "outputs": [
    {
     "name": "stdout",
     "output_type": "stream",
     "text": [
      "15\n"
     ]
    }
   ],
   "source": [
    "def add(a, b):\n",
    "    return a + b\n",
    "result = add(5, 10)  # 5 is passed to 'a' and 10 to 'b'\n",
    "print(result)"
   ]
  },
  {
   "cell_type": "markdown",
   "id": "0b820ab6-f36a-4d28-9195-3120a9fbccad",
   "metadata": {},
   "source": [
    "#### ii. Keyword Arguments:\n",
    "      - These are passed by explicitly naming the parameter.\n"
   ]
  },
  {
   "cell_type": "code",
   "execution_count": 59,
   "id": "1c7252f4-fa00-4139-a414-97f27fc15986",
   "metadata": {},
   "outputs": [
    {
     "name": "stdout",
     "output_type": "stream",
     "text": [
      "Saumya is 21 years old.\n"
     ]
    }
   ],
   "source": [
    "        def introduce(name, age):\n",
    "            print(f\"{name} is {age} years old.\")\n",
    "        introduce(\"Saumya\", \"21\")\n"
   ]
  },
  {
   "cell_type": "markdown",
   "id": "30f30369-c46e-490b-8f86-3948c96a4d9f",
   "metadata": {},
   "source": [
    "#### iii. Default Arguments:\n",
    "      - Parameters can have default values, which are used if no argument is provided during the function call.\n"
   ]
  },
  {
   "cell_type": "code",
   "execution_count": 62,
   "id": "897e9308-5c46-4e30-9c3a-1a49eeaa2f21",
   "metadata": {},
   "outputs": [
    {
     "name": "stdout",
     "output_type": "stream",
     "text": [
      "Hello, Guest\n",
      "Hello, Saumya\n"
     ]
    }
   ],
   "source": [
    "        def greet(name=\"Guest\"):\n",
    "            print(f\"Hello, {name}\")\n",
    "        greet()  # Output: Hello, Guest\n",
    "        greet(\"Saumya\")  # Output: Hello, Saumya\n"
   ]
  },
  {
   "cell_type": "markdown",
   "id": "5197938a-5e23-4dbe-968f-04402b319ea5",
   "metadata": {},
   "source": [
    "#### iv. Arbitrary Arguments (args):\n",
    "      - Allows you to pass a variable number of positional arguments. These arguments are accessible as a tuple.\n"
   ]
  },
  {
   "cell_type": "code",
   "execution_count": 65,
   "id": "86f2d8fd-6a01-4fb3-871f-02879f6bfc78",
   "metadata": {},
   "outputs": [
    {
     "name": "stdout",
     "output_type": "stream",
     "text": [
      "10\n"
     ]
    }
   ],
   "source": [
    "        def sum_numbers(*args):\n",
    "            return sum(args)\n",
    "        print(sum_numbers(1, 2, 3, 4))  # Output: 10"
   ]
  },
  {
   "cell_type": "markdown",
   "id": "b637473e-54c4-4d44-9807-fbba26b59839",
   "metadata": {},
   "source": [
    "#### v. Arbitrary Keyword Arguments (kwargs):\n",
    "      - Allows you to pass a variable number of keyword arguments. These arguments are accessible as a dictionary.\n"
   ]
  },
  {
   "cell_type": "code",
   "execution_count": 68,
   "id": "5139f2ef-1038-457d-baf3-731ff87b8d6a",
   "metadata": {},
   "outputs": [
    {
     "name": "stdout",
     "output_type": "stream",
     "text": [
      "name: Saumya\n",
      "age: 21\n",
      "city: Nainital\n"
     ]
    }
   ],
   "source": [
    "        def print_info(**kwargs):\n",
    "            for key, value in kwargs.items():\n",
    "                print(f\"{key}: {value}\")\n",
    "        print_info(name=\"Saumya\", age=21, city=\"Nainital\")\n"
   ]
  },
  {
   "cell_type": "markdown",
   "id": "feb09bca-6aff-4683-895b-df22236113ac",
   "metadata": {},
   "source": [
    "## 3. What are the different ways to define in call of function in Python ?"
   ]
  },
  {
   "cell_type": "markdown",
   "id": "58c0b1c8-64f3-43e7-b454-088edeee3431",
   "metadata": {},
   "source": [
    "#### In Python, you can define and call a function in several ways. Here are the common types of function definitions and calls:\n"
   ]
  },
  {
   "cell_type": "markdown",
   "id": "4e6c1ca7-0ca2-45e8-a6aa-6c1eb3f711a0",
   "metadata": {
    "jp-MarkdownHeadingCollapsed": true
   },
   "source": [
    "#### i. Standard Function Definition\n",
    "   - This is the most common way to define and call a function."
   ]
  },
  {
   "cell_type": "code",
   "execution_count": 76,
   "id": "e6bef749-2b0b-44f9-8d5d-066a7b73171c",
   "metadata": {},
   "outputs": [
    {
     "data": {
      "text/plain": [
       "'Hello, Saumya!'"
      ]
     },
     "execution_count": 76,
     "metadata": {},
     "output_type": "execute_result"
    }
   ],
   "source": [
    "   def greet(name):\n",
    "       return f\"Hello, {name}!\"  # Call\n",
    "   greet(\"Saumya\")"
   ]
  },
  {
   "cell_type": "markdown",
   "id": "34fd80db-1673-4d9c-bc39-2ebc089eb482",
   "metadata": {},
   "source": [
    "#### ii. Function with Default Arguments\n",
    "   - You can assign default values to function parameters.\n"
   ]
  },
  {
   "cell_type": "code",
   "execution_count": 82,
   "id": "d0d88fd5-a1c2-465e-89b7-79c01f3d0460",
   "metadata": {},
   "outputs": [
    {
     "data": {
      "text/plain": [
       "'Hello, Saumya!'"
      ]
     },
     "execution_count": 82,
     "metadata": {},
     "output_type": "execute_result"
    }
   ],
   "source": [
    "   def greet(name=\"Guest\"):\n",
    "       return f\"Hello, {name}!\"\n",
    "   greet() # Call with no argument\n",
    "   greet(\"Saumya\")  # Call with argument\n"
   ]
  },
  {
   "cell_type": "markdown",
   "id": "4c2fc5ba-3a2a-45a0-a15b-35e1c27eec92",
   "metadata": {},
   "source": [
    "#### iii. Function with Arbitrary Arguments (*args)\n",
    "   - If you don't know how many arguments will be passed, use *args to capture multiple positional arguments."
   ]
  },
  {
   "cell_type": "code",
   "execution_count": 96,
   "id": "2d223210-58cc-404a-ae66-9d77bfffa257",
   "metadata": {},
   "outputs": [
    {
     "data": {
      "text/plain": [
       "'Hello, Alice, Bob, Charlie!'"
      ]
     },
     "execution_count": 96,
     "metadata": {},
     "output_type": "execute_result"
    }
   ],
   "source": [
    "   def greet(*names):\n",
    "       return f\"Hello, {', '.join(names)}!\"\n",
    "\n",
    "   greet(\"Alice\", \"Bob\", \"Charlie\") # Call with multiple argument\n"
   ]
  },
  {
   "cell_type": "markdown",
   "id": "43ca6247-178c-420a-990c-92bbf29241a1",
   "metadata": {},
   "source": [
    "#### iv. Function with Arbitrary Keyword Arguments (**kwargs)\n",
    "   - You can capture a variable number of keyword arguments with **kwargs.\n",
    "   python"
   ]
  },
  {
   "cell_type": "code",
   "execution_count": 101,
   "id": "c866ab67-13eb-42d7-8d16-61552c9803ae",
   "metadata": {},
   "outputs": [
    {
     "data": {
      "text/plain": [
       "'Hello, Alice from New York!'"
      ]
     },
     "execution_count": 101,
     "metadata": {},
     "output_type": "execute_result"
    }
   ],
   "source": [
    "   def greet(**info):\n",
    "       return f\"Hello, {info['name']} from {info['city']}!\"\n",
    "\n",
    "   greet(name=\"Alice\", city=\"New York\") # Call with keyword arguments\n"
   ]
  },
  {
   "cell_type": "markdown",
   "id": "668a3742-c9f7-4108-bf31-3e88ac72fbfc",
   "metadata": {},
   "source": [
    "#### v. Lambda Functions (Anonymous Functions)\n",
    "   - These are small, unnamed functions defined using the lambda keyword.\n"
   ]
  },
  {
   "cell_type": "code",
   "execution_count": 105,
   "id": "bd205b3d-f035-4889-8f14-f0fb9f464387",
   "metadata": {},
   "outputs": [
    {
     "data": {
      "text/plain": [
       "8"
      ]
     },
     "execution_count": 105,
     "metadata": {},
     "output_type": "execute_result"
    }
   ],
   "source": [
    "   add = lambda x, y: x + y  # Lambda function for addition\n",
    "   add(3, 5)  # Call\n"
   ]
  },
  {
   "cell_type": "markdown",
   "id": "41d18e0c-2cab-4fe3-81c1-3b0e425d8ce3",
   "metadata": {},
   "source": [
    "#### vi. *Nested Functions*\n",
    "   - You can define functions within other functions.\n"
   ]
  },
  {
   "cell_type": "code",
   "execution_count": 108,
   "id": "f4f36082-d6c0-40df-9146-af18cbc14f4f",
   "metadata": {},
   "outputs": [
    {
     "data": {
      "text/plain": [
       "'Hello from inner function!'"
      ]
     },
     "execution_count": 108,
     "metadata": {},
     "output_type": "execute_result"
    }
   ],
   "source": [
    "   def outer():\n",
    "       def inner():\n",
    "           return \"Hello from inner function!\"\n",
    "       return inner()\n",
    "   outer()  # Call\n"
   ]
  },
  {
   "cell_type": "markdown",
   "id": "c7020df4-ebcb-4f01-9a16-51f17eee1f9c",
   "metadata": {},
   "source": [
    "#### vii. Recursion (A Function Calling Itself)\n",
    "   - A function can call itself to solve smaller instances of the same problem.\n"
   ]
  },
  {
   "cell_type": "code",
   "execution_count": 112,
   "id": "d0c3f5ce-a7b9-46a2-98af-120c80f3134c",
   "metadata": {},
   "outputs": [
    {
     "data": {
      "text/plain": [
       "120"
      ]
     },
     "execution_count": 112,
     "metadata": {},
     "output_type": "execute_result"
    }
   ],
   "source": [
    "   def factorial(n):\n",
    "       if n == 1:\n",
    "           return 1\n",
    "       return n * factorial(n - 1)\n",
    "   factorial(5) # Call\n"
   ]
  },
  {
   "cell_type": "markdown",
   "id": "fb0eee15-da78-4408-9671-2872ec1919d9",
   "metadata": {},
   "source": [
    "#### viii. First-Class Functions (Passing Functions as Arguments)\n",
    "   - Functions can be passed as arguments to other functions.\n"
   ]
  },
  {
   "cell_type": "code",
   "execution_count": 117,
   "id": "1da2c6ae-9a18-4a57-8b6f-72176695099d",
   "metadata": {},
   "outputs": [
    {
     "data": {
      "text/plain": [
       "'Hello, Saumya!'"
      ]
     },
     "execution_count": 117,
     "metadata": {},
     "output_type": "execute_result"
    }
   ],
   "source": [
    "   def greet(name):\n",
    "       return f\"Hello, {name}!\"\n",
    "\n",
    "   def call_func(func, name):\n",
    "       return func(name)\n",
    "       \n",
    "   call_func(greet, \"Saumya\")  # Call\n"
   ]
  },
  {
   "cell_type": "markdown",
   "id": "3fef233e-18d8-43b3-8342-81cbc5938888",
   "metadata": {},
   "source": [
    "## 4. What is the purpose of the 'return' statement in a Python function ?"
   ]
  },
  {
   "cell_type": "markdown",
   "id": "becaa2ce-37d4-4735-adfc-04c44f8b7a7d",
   "metadata": {},
   "source": [
    "#### The return statement in a Python function serves several purposes:\n",
    "\n",
    "i. Exiting the function:\n",
    "When a return statement is encountered, the function execution stops, and control is returned to the caller.\n",
    "\n",
    "ii. Returning a value:\n",
    "The return statement can pass a value back to the caller, allowing the function to provide a result or output.\n",
    "\n",
    "iii. Specifying the function's output type: \n",
    "By using return, you can indicate the type of value a function is expected to return, making your code more readable and maintainable.\n",
    "\n",
    "iv. Allowing function chaining: \n",
    "By returning a value, you can chain function calls together, enabling more concise and expressive code.\n",
    "\n",
    "v. Enabling recursion:\n",
    "The return statement is essential for recursive functions, as it allows them to return values from recursive calls.\n",
    "\n",
    "\n",
    "In summary, the return statement is crucial for controlling the flow of your program, providing output values, and enabling more advanced programming techniques like recursion and function chaining.\n",
    "\n"
   ]
  },
  {
   "cell_type": "code",
   "execution_count": 124,
   "id": "34f2b78b-85ad-4a77-a52c-d4af0886097d",
   "metadata": {},
   "outputs": [
    {
     "name": "stdout",
     "output_type": "stream",
     "text": [
      "8\n"
     ]
    }
   ],
   "source": [
    "def add(a, b):\n",
    "    return a + b\n",
    "result = add(3, 5)\n",
    "print(result)  # Output: 8\n",
    "## In this example, the return statement passes the result of the addition back to the caller, allowing the result to be printed\n"
   ]
  },
  {
   "cell_type": "markdown",
   "id": "77ead88a-7ec9-49d7-945d-165a2290d53f",
   "metadata": {},
   "source": [
    "## 5. What are the iterators in Python and how do they differ from iterables ?"
   ]
  },
  {
   "cell_type": "markdown",
   "id": "e81aa625-e786-47b9-b6f4-14b0afbc9cf1",
   "metadata": {},
   "source": [
    "#### In Python, iterables are objects that can be iterated over, such as lists, tuples, dictionaries, sets, and strings. They have an __iter__() method that returns an iterator object.\n",
    "\n",
    "Iterators, on the other hand, are objects that keep track of their position in an iterable and allow you to iterate over it one element at a time. They have a __next__() method that returns the next element in the sequence.\n",
    "\n",
    "The key differences between iterables and iterators are:\n",
    "\n",
    "- Iterables are the objects being iterated over, while iterators are the objects doing the iterating.\n",
    "- Iterables have an __iter__() method, while iterators have a __next__() method.\n",
    "- Iterables can be iterated over multiple times, while iterators can only be iterated over once.\n",
    "\n",
    "\n",
    "Here's an example to illustrate the difference:\n",
    "\n"
   ]
  },
  {
   "cell_type": "code",
   "execution_count": 129,
   "id": "a6705eb1-812c-4337-b5d2-844e36517181",
   "metadata": {},
   "outputs": [
    {
     "name": "stdout",
     "output_type": "stream",
     "text": [
      "1\n",
      "2\n",
      "3\n"
     ]
    }
   ],
   "source": [
    "my_list = [1, 2, 3]  # my_list is an iterable\n",
    "\n",
    "my_iter = iter(my_list)  # my_iter is an iterator\n",
    "\n",
    "print(next(my_iter))  # prints 1\n",
    "print(next(my_iter))  # prints 2\n",
    "print(next(my_iter))  # prints 3\n"
   ]
  },
  {
   "cell_type": "markdown",
   "id": "1ad850d6-9982-446c-be9d-630233533757",
   "metadata": {},
   "source": [
    "In this example, my_list is an iterable, and my_iter is an iterator created from my_list. The next() function is used to retrieve the next element from the iterator.\n",
    "\n",
    "Remember, iterables are the data, while iterators are the objects that help you access that data one element at a time."
   ]
  },
  {
   "cell_type": "markdown",
   "id": "7356b2d9-f441-465f-bf51-1858de7474f2",
   "metadata": {},
   "source": [
    "## 6. Explain the concept of generators in Python and how they are defined"
   ]
  },
  {
   "cell_type": "markdown",
   "id": "7ea10f53-834d-45a2-ab7d-70b869bc08cb",
   "metadata": {},
   "source": [
    "#### Generators in Python are a type of iterable, like lists or tuples, but they don't store all the values in memory at once. Instead, they generate values on-the-fly as you iterate over them. This makes them memory-efficient and useful for handling large datasets. A generator is defined using a function with the yield keyword instead of return. When a generator function is called, it returns a generator object, which can be iterated over using a for loop or the next() function.\n",
    "\n",
    "Example of a simple generator:\n"
   ]
  },
  {
   "cell_type": "code",
   "execution_count": 137,
   "id": "65a606e5-782b-4a44-b9de-7aa98a3f0c1b",
   "metadata": {},
   "outputs": [
    {
     "name": "stdout",
     "output_type": "stream",
     "text": [
      "0\n",
      "1\n",
      "2\n"
     ]
    }
   ],
   "source": [
    "def infinite_sequence():\n",
    "    num = 0\n",
    "    while True:\n",
    "        yield num\n",
    "        num += 1\n",
    "        \n",
    "gen = infinite_sequence()\n",
    "print(next(gen))  # prints 0\n",
    "print(next(gen))  # prints 1\n",
    "print(next(gen))  # prints 2\n"
   ]
  },
  {
   "cell_type": "markdown",
   "id": "c0796c6b-0821-4e3b-b4eb-e526b685e419",
   "metadata": {},
   "source": [
    "#### In this example, the infinite_sequence function is a generator that yields an infinite sequence of numbers. The yield keyword pauses the function and returns the current value, allowing the function to resume where it left off when next() is called again.\n",
    "\n",
    "Generators have several benefits:\n",
    "\n",
    "- Memory efficiency: They don't store all values in memory at once.\n",
    "- Lazy evaluation: Values are generated only when needed.\n",
    "- Flexibility: Can be used to implement complex iteration logic.\n",
    "\n",
    "Common use cases for generators include:\n",
    "\n",
    "- Reading large files or datasets\n",
    "- Handling infinite sequences\n",
    "- Implementing cooperative multitasking"
   ]
  },
  {
   "cell_type": "markdown",
   "id": "18cf5b3d-5e5f-40cf-850d-bdf7cd745a32",
   "metadata": {},
   "source": [
    "## 7. What are the advantages of using generators over regular functions ?"
   ]
  },
  {
   "cell_type": "markdown",
   "id": "19eb55a1-b0a6-4209-9ebc-2c905f0f61c4",
   "metadata": {},
   "source": [
    "#### Physical advantages of using generators over regular functions:\n",
    "\n",
    "i. Memory Efficiency: \n",
    "Generators don't store all values in memory at once, making them ideal for handling large datasets.\n",
    "\n",
    "ii. Lazy Evaluation: \n",
    "Values are generated only when needed, reducing computation time and resources.\n",
    "\n",
    "iii. Flexibility: \n",
    "Generators can implement complex iteration logic and handle infinite sequences.\n",
    "\n",
    "iv. Improved Performance: \n",
    "Generators can perform better than regular functions for large datasets.\n",
    "\n",
    "v. Simplified Code:\n",
    "Generators can simplify code by eliminating the need for complex iteration logic.\n",
    "\n",
    "vi. On-the-fly Generation: \n",
    " Generators can generate values on-the-fly, reducing the need for pre-computation.\n",
    "\n",
    "vii. Cooperative Multitasking: \n",
    "Generators can be used to implement cooperative multitasking.\n",
    "\n",
    "viii. Reduced Memory Footprint: \n",
    "Generators can reduce the memory footprint of your program.\n",
    "\n",
    "ix. Faster Execution: \n",
    "Generators can execute faster than regular functions for large datasets.\n",
    "\n",
    "x. Easier Debugging: \n",
    "Generators can make debugging easier by allowing you to inspect generated values.\n",
    "\n",
    "\n",
    "By using generators, we can write more efficient, flexible, and scalable code, especially when working with large datasets or complex iteration logic\n"
   ]
  },
  {
   "cell_type": "markdown",
   "id": "6a99e0c3-57a7-402c-8081-70deda4159ca",
   "metadata": {},
   "source": [
    "## 8. What is a lambda function in Python and when is it typically used ?"
   ]
  },
  {
   "cell_type": "markdown",
   "id": "9ad6e73c-94f0-4260-b0cb-48127cd69b67",
   "metadata": {},
   "source": [
    "#### In Python, a lambda function is a small, anonymous function that can take any number of arguments, but can only have one expression. It's typically used when you need a short, one-time use function, and don't want to declare a full-fledged function with the def keyword.\n",
    "\n",
    "The general syntax of a lambda function is:\n",
    "\n",
    "lambda arguments: expression\n"
   ]
  },
  {
   "cell_type": "code",
   "execution_count": 151,
   "id": "60c68e80-4aa0-4d4b-a673-e031ef039cf1",
   "metadata": {},
   "outputs": [
    {
     "name": "stdout",
     "output_type": "stream",
     "text": [
      "8\n"
     ]
    }
   ],
   "source": [
    "#Here's an example:\n",
    "\n",
    "add_five = lambda x: x + 5\n",
    "print(add_five(3))  # Output: 8\n"
   ]
  },
  {
   "cell_type": "markdown",
   "id": "2f6dc43f-6b7d-4d72-a899-c491284e29e1",
   "metadata": {},
   "source": [
    "#### Lambda functions are often used in situations like:\n",
    "\n",
    "i. Event handling: When you need a small function to handle an event, like a button click.\n",
    "\n",
    "ii. Data processing: When you need to perform a simple transformation on data, like converting strings to uppercase.\n",
    "\n",
    "iii. Sorting and filtering: When you need to sort or filter a list based on a simple condition.\n",
    "\n",
    "iv. Higher-order functions: When you need to pass a function as an argument to another function, like map(), filter(), or reduce().\n",
    "\n",
    "*Lambda functions are a powerful tool in Python, ideal for short, one-time use cases, but not suitable for complex logic or reusable functions.*\n"
   ]
  },
  {
   "cell_type": "markdown",
   "id": "eaeb4ba0-4876-4906-b7f4-42761ddd5e87",
   "metadata": {},
   "source": [
    "## 9. Explain the purpose and usage of the `map()` function in Python."
   ]
  },
  {
   "cell_type": "markdown",
   "id": "18c1d15c-e55e-4a81-8a97-7539f7e03cf7",
   "metadata": {},
   "source": [
    "#### The map() function in Python is a built-in function that applies a given function to each item of an iterable (like a list, tuple, or string) and returns a new iterable with the results.\n",
    "\n",
    "Purpose:\n",
    "\n",
    "- To transform or process each element of an iterable in a concise way.\n",
    "- To avoid explicit loops and make code more readable.\n",
    "\n",
    "\n",
    "Usage:\n",
    "\n",
    "map(function, iterable)\n",
    "\n",
    "- function is the function to apply to each element.\n",
    "- iterable is the list, tuple, string, or other iterable to process.\n",
    "\n",
    "\n"
   ]
  },
  {
   "cell_type": "code",
   "execution_count": 164,
   "id": "837e702d-f835-4c53-98fe-24e5b37b2e66",
   "metadata": {},
   "outputs": [
    {
     "name": "stdout",
     "output_type": "stream",
     "text": [
      "[1, 4, 9, 16, 25]\n"
     ]
    }
   ],
   "source": [
    "def square(x):\n",
    "    return x ** 2\n",
    "\n",
    "numbers = [1, 2, 3, 4, 5]\n",
    "squared_numbers = list(map(square, numbers))\n",
    "print(squared_numbers)  # Output: [1, 4, 9, 16, 25]\n"
   ]
  },
  {
   "cell_type": "markdown",
   "id": "fc5e4526-ca5d-4dc4-b6f4-07abac920a88",
   "metadata": {},
   "source": [
    "####  \n",
    "In this example, the square function is applied to each element of the numbers list, and the results are collected in a new list squared_numbers"
   ]
  },
  {
   "cell_type": "markdown",
   "id": "92763fa0-b638-4a45-9ccb-09064fec0330",
   "metadata": {},
   "source": [
    "#### Common use cases:\n",
    "\n",
    "- Data transformation: Convert data types, perform calculations, or extract information.\n",
    "- String processing: Convert strings to uppercase, lowercase, or title case.\n",
    "- Mathematical operations: Apply mathematical functions to numerical data.\n"
   ]
  },
  {
   "cell_type": "markdown",
   "id": "40ede93b-7aa4-437a-80a5-c95e68ea10fa",
   "metadata": {},
   "source": [
    "## 10. What is the difference between `map()`, `reduce()`, and `filter()` functions in Python?"
   ]
  },
  {
   "cell_type": "markdown",
   "id": "f5cfee77-c57e-46dc-82af-b35145fae9c4",
   "metadata": {},
   "source": [
    "#### map(), reduce(), and filter() are three fundamental functions in Python's functional programming toolkit. Here's a brief overview of each:\n",
    "\n",
    "1. map(function, iterable):\n",
    "    - Applies a given function to each element of an iterable (like a list, tuple, or string).\n",
    "    - Returns a new iterable with the results.\n",
    "    - Purpose: Transform or process each element.\n",
    "2. reduce(function, iterable):\n",
    "    - Applies a given function to the first two elements of an iterable, then to the result and the next element, and so on.\n",
    "    - Returns a single output value.\n",
    "    - Purpose: Aggregate or combine elements into a single value.\n",
    "3. filter(function, iterable):\n",
    "    - Applies a given function to each element of an iterable.\n",
    "    - Returns a new iterable with only the elements for which the function returns True.\n",
    "    - Purpose: Select or filter elements based on a condition.\n",
    "\n",
    "Key differences:\n",
    "\n",
    "- map() transforms elements, reduce() aggregates elements, and filter() selects elements.\n",
    "- map() and filter() return iterables, while reduce() returns a single value.\n",
    "- map() and filter() are often used for element-wise operations, while reduce() is used for cumulative operations.\n"
   ]
  },
  {
   "cell_type": "markdown",
   "id": "1966e7c7-45c0-4967-a89f-36c128aa723f",
   "metadata": {},
   "source": [
    "#### \n",
    "Here's an example to illustrate the differences:\n",
    "\n",
    "numbers = [1, 2, 3, 4, 5]\n"
   ]
  },
  {
   "cell_type": "code",
   "execution_count": 176,
   "id": "2f75a19e-4e6c-4966-979b-13f557fb4369",
   "metadata": {},
   "outputs": [
    {
     "name": "stdout",
     "output_type": "stream",
     "text": [
      "[2, 4, 6, 8, 10]\n"
     ]
    }
   ],
   "source": [
    "# map(): Double each number\n",
    "doubled = list(map(lambda x: x * 2, numbers))\n",
    "print(doubled)  # [2, 4, 6, 8, 10]\n"
   ]
  },
  {
   "cell_type": "code",
   "execution_count": 178,
   "id": "db1ebef8-d517-44c7-9f12-d00386fbeab3",
   "metadata": {},
   "outputs": [
    {
     "name": "stdout",
     "output_type": "stream",
     "text": [
      "15\n"
     ]
    }
   ],
   "source": [
    "# reduce(): Calculate the sum of numbers\n",
    "from functools import reduce\n",
    "sum_numbers = reduce(lambda x, y: x + y, numbers)\n",
    "print(sum_numbers)  # 15"
   ]
  },
  {
   "cell_type": "code",
   "execution_count": 180,
   "id": "7b1b4864-1569-42d8-befc-6d0434c58b02",
   "metadata": {},
   "outputs": [
    {
     "name": "stdout",
     "output_type": "stream",
     "text": [
      "[2, 4]\n"
     ]
    }
   ],
   "source": [
    "# filter(): Keep only even numbers\n",
    "even_numbers = list(filter(lambda x: x % 2 == 0, numbers))\n",
    "print(even_numbers)  # [2, 4]\n"
   ]
  },
  {
   "cell_type": "markdown",
   "id": "c6ed640f-92ca-4227-938c-31020e8f68ea",
   "metadata": {},
   "source": [
    "#### In summary:\n",
    "\n",
    "- map() transforms elements.\n",
    "- filter() selects elements.\n",
    "- reduce() aggregates elements.\n",
    "\n",
    "These functions can be combined and used in creative ways to solve complex problems in a concise and readable manner."
   ]
  },
  {
   "cell_type": "markdown",
   "id": "6704dcdc-09fe-4b24-a0aa-fd0cfb7baee6",
   "metadata": {},
   "source": [
    "## 11. Using pen and paper write the internal mechanism for some operation using reduce function on this given list [ 47, 11, 42, 13]"
   ]
  },
  {
   "cell_type": "markdown",
   "id": "8e6e60ca-9d65-4b19-a232-d2b4d305f0e2",
   "metadata": {},
   "source": [
    "https://drive.google.com/file/d/1x_aaIXNn68Z4U-_7xuMtGraB3plrq4jK/view?usp=drive_link"
   ]
  },
  {
   "cell_type": "markdown",
   "id": "cc8719ad-200f-42c9-96b4-b9791dd7d229",
   "metadata": {},
   "source": [
    "# Practical Questions :-"
   ]
  },
  {
   "cell_type": "markdown",
   "id": "fc54818d-b1ef-4694-b66a-cc3925928f4d",
   "metadata": {},
   "source": [
    "## 1. Write a Python function that takes a list of numbers as input and returns the sum of all even numbers in the list."
   ]
  },
  {
   "cell_type": "code",
   "execution_count": 17,
   "id": "70558039-e5be-40c6-8be7-9ba4e3aaae23",
   "metadata": {},
   "outputs": [
    {
     "name": "stdout",
     "output_type": "stream",
     "text": [
      "12\n"
     ]
    }
   ],
   "source": [
    "def sum_of_even_numbers(numbers):\n",
    "       return sum(num for num in numbers if num % 2 == 0)   # Use list comprehension to filter even numbers and return their sum\n",
    "numbers = [1, 2, 3, 4, 5, 6]\n",
    "result = sum_of_even_numbers(numbers)\n",
    "print(result)  # Output will be 12"
   ]
  },
  {
   "cell_type": "markdown",
   "id": "459b58de-7750-4e95-ab0e-16cf7d204ad4",
   "metadata": {},
   "source": [
    "## 2. Create a Python function that accepts a string and returns the reverse of that string."
   ]
  },
  {
   "cell_type": "code",
   "execution_count": 2,
   "id": "9a34538a-e2b9-4856-971f-c38de8bb3d2e",
   "metadata": {},
   "outputs": [
    {
     "name": "stdout",
     "output_type": "stream",
     "text": [
      "aymuas\n"
     ]
    }
   ],
   "source": [
    "def reverse_string(s):\n",
    "\n",
    "    return s[::-1]\n",
    "\n",
    "# Example usage:\n",
    "input_string = \"saumya\"\n",
    "reversed_string = reverse_string(input_string)\n",
    "print(reversed_string)"
   ]
  },
  {
   "cell_type": "markdown",
   "id": "512912e1-190d-4fcd-986a-22dc3f7fef40",
   "metadata": {},
   "source": [
    "## 3. Implement a Python function that takes a list of integers and returns a new list containing the squares of each number"
   ]
  },
  {
   "cell_type": "markdown",
   "id": "71b36b97-f8de-4866-b44d-c0df258271dd",
   "metadata": {},
   "source": [
    "#### This function uses a list comprehension to create a new list where each element is the square of the corresponding element in the input list.\n"
   ]
  },
  {
   "cell_type": "code",
   "execution_count": 23,
   "id": "85bad4e9-5e68-4e84-a946-ddf7c0a69bb4",
   "metadata": {},
   "outputs": [
    {
     "name": "stdout",
     "output_type": "stream",
     "text": [
      "[1, 4, 9, 16, 25]\n"
     ]
    }
   ],
   "source": [
    "def square_numbers(numbers):\n",
    "    return [n ** 2 for n in numbers]\n",
    "\n",
    "numbers = [1, 2, 3, 4, 5]\n",
    "squared_numbers = square_numbers(numbers)\n",
    "print(squared_numbers)  # Output: [1, 4, 9, 16, 25]\n"
   ]
  },
  {
   "cell_type": "markdown",
   "id": "bbedbb4f-0124-4804-ac20-cd2443c844f1",
   "metadata": {},
   "source": [
    "## 4. Write a Python function that checks if a given number is prime or not from 1 to 200."
   ]
  },
  {
   "cell_type": "code",
   "execution_count": 33,
   "id": "44bd5fd2-875b-453e-b1ec-7150955a1751",
   "metadata": {},
   "outputs": [
    {
     "name": "stdout",
     "output_type": "stream",
     "text": [
      "Prime numbers between 1 and 200:\n",
      "2 3 5 7 11 13 17 19 23 29 31 37 41 43 47 53 59 61 67 71 73 79 83 89 97 101 103 107 109 113 127 131 137 139 149 151 157 163 167 173 179 181 191 193 197 199 "
     ]
    }
   ],
   "source": [
    "def is_prime(num):\n",
    "    if num < 2:\n",
    "        return False\n",
    "    for i in range(2, int(num**0.5) + 1):\n",
    "        if num % i == 0:\n",
    "            return False\n",
    "    return True\n",
    "\n",
    "print(\"Prime numbers between 1 and 200:\")\n",
    "for num in range(1, 201):\n",
    "    if is_prime(num):\n",
    "        print(num, end=\" \")"
   ]
  },
  {
   "cell_type": "markdown",
   "id": "557839e4-7f88-4f9c-bfd0-5c320bc2f2af",
   "metadata": {},
   "source": [
    "## 5. Create an iterator class in Python that generates the Fibonacci sequence up to a specified number of terms."
   ]
  },
  {
   "cell_type": "code",
   "execution_count": 36,
   "id": "05a4fdd4-756c-4c4d-a13b-b789156b1f06",
   "metadata": {},
   "outputs": [
    {
     "name": "stdout",
     "output_type": "stream",
     "text": [
      "0\n",
      "1\n",
      "1\n",
      "2\n",
      "3\n",
      "5\n",
      "8\n",
      "13\n",
      "21\n",
      "34\n"
     ]
    }
   ],
   "source": [
    "class FibonacciIterator:\n",
    "    def __init__(self, n):\n",
    "        self.n = n\n",
    "        self.a, self.b = 0, 1\n",
    "        self.count = 0\n",
    "\n",
    "    def __iter__(self):\n",
    "        return self\n",
    "\n",
    "    def __next__(self):\n",
    "        if self.count < self.n:\n",
    "            result = self.a\n",
    "            self.a, self.b = self.b, self.a + self.b\n",
    "            self.count += 1\n",
    "            return result\n",
    "        else:\n",
    "            raise StopIteration\n",
    "\n",
    "# Example usage:\n",
    "fib_iter = FibonacciIterator(10)\n",
    "for num in fib_iter:\n",
    "    print(num)\n"
   ]
  },
  {
   "cell_type": "markdown",
   "id": "226913dc-43b7-47a7-a854-2f5c23aa6200",
   "metadata": {},
   "source": [
    "## 6. Write a generator function in Python that yields the powers of 2 up to a given exponent."
   ]
  },
  {
   "cell_type": "code",
   "execution_count": 38,
   "id": "2bce888d-a744-4009-bcfe-f478e2748b8a",
   "metadata": {},
   "outputs": [
    {
     "name": "stdout",
     "output_type": "stream",
     "text": [
      "1\n",
      "2\n",
      "4\n",
      "8\n",
      "16\n",
      "32\n"
     ]
    }
   ],
   "source": [
    "def powers_of_two(max_exponent):\n",
    "    \"\"\"\n",
    "    A generator function that yields powers of 2 from 2^0 up to 2^max_exponent.\n",
    "\n",
    "    Parameters:\n",
    "    max_exponent (int): The maximum exponent for powers of 2.\n",
    "\n",
    "    Yields:\n",
    "    int: Powers of 2 from 2^0 up to 2^max_exponent.\n",
    "    \"\"\"\n",
    "    for exponent in range(max_exponent + 1):\n",
    "        yield 2 ** exponent\n",
    "\n",
    "# Example usage:\n",
    "for power in powers_of_two(5):\n",
    "    print(power)"
   ]
  },
  {
   "cell_type": "markdown",
   "id": "54dfa6fa-be70-4bb8-9048-652c983a7c68",
   "metadata": {},
   "source": [
    "## 7. Implement a generator function that reads a file line by line and yields each line as a string."
   ]
  },
  {
   "cell_type": "code",
   "execution_count": 55,
   "id": "a5e835aa-228c-404d-8867-7e5ab63b1c66",
   "metadata": {},
   "outputs": [
    {
     "name": "stdout",
     "output_type": "stream",
     "text": [
      "File not found: example.txt\n"
     ]
    }
   ],
   "source": [
    "\n",
    "def read_lines(file_path):\n",
    "    \"\"\"A generator function that reads a file line by line and yields each line as a string.\"\"\"\n",
    "    try:\n",
    "        with open(file_path, 'r') as file:\n",
    "            for line in file:\n",
    "                yield line.strip()  # Remove leading/trailing whitespace\n",
    "    except FileNotFoundError:\n",
    "        print(f\"File not found: {file_path}\")\n",
    "\n",
    "# Example usage:\n",
    "file_path = 'example.txt'  # Replace with the path to your file\n",
    "for line in read_lines(file_path):\n",
    "    print(line)"
   ]
  },
  {
   "cell_type": "markdown",
   "id": "4474834f-7b31-4d16-bc9f-ef3cf0162d16",
   "metadata": {},
   "source": [
    "## 8. Use a lambda function in Python to sort a list of tuples based on the second element of each tuple."
   ]
  },
  {
   "cell_type": "code",
   "execution_count": 60,
   "id": "3d7ba8b0-bff9-4d1d-9c27-71e594dd765e",
   "metadata": {},
   "outputs": [
    {
     "name": "stdout",
     "output_type": "stream",
     "text": [
      "[(3, 1), (1, 2), (2, 3), (5, 4)]\n"
     ]
    }
   ],
   "source": [
    "tuples_list = [(1, 2), (3, 1), (5, 4), (2, 3)]    # List of tuples\n",
    "sorted_list = sorted(tuples_list, key=lambda x: x[1])    # Sort the list using a lambda function as the key\n",
    "\n",
    "print(sorted_list)"
   ]
  },
  {
   "cell_type": "markdown",
   "id": "ba73268a-e122-4703-bfe6-6d547b1f5bc9",
   "metadata": {},
   "source": [
    "## 9. Write a Python program that uses `map()` to convert a list of temperatures from Celsius to Fahrenheit."
   ]
  },
  {
   "cell_type": "code",
   "execution_count": 65,
   "id": "33967051-1313-4ec3-91c0-7728200d5852",
   "metadata": {},
   "outputs": [
    {
     "name": "stdout",
     "output_type": "stream",
     "text": [
      "[77.0, 86.0, 95.0, 104.0]\n"
     ]
    }
   ],
   "source": [
    "def celsius_to_fahrenheit(celsius):     # Define a function to convert Celsius to Fahrenheit\n",
    "    return (celsius * 9/5) + 32\n",
    "celsius_temps = [25, 30, 35, 40]       # List of temperatures in Celsius\n",
    "\n",
    "fahrenheit_temps = list(map(celsius_to_fahrenheit, celsius_temps))        # Use map() to convert the temperatures to Fahrenheit\n",
    "\n",
    "print(fahrenheit_temps)"
   ]
  },
  {
   "cell_type": "markdown",
   "id": "4f91c38b-79f1-48b7-80aa-c46113f22544",
   "metadata": {},
   "source": [
    "## 10. Create a Python program that uses `filter()` to remove all the vowels from a given string."
   ]
  },
  {
   "cell_type": "code",
   "execution_count": 70,
   "id": "b6dd0464-e022-45e3-a317-ab6485a5b6e0",
   "metadata": {},
   "outputs": [
    {
     "name": "stdout",
     "output_type": "stream",
     "text": [
      "Hll Wrld\n"
     ]
    }
   ],
   "source": [
    "# Define a function to check if a character is a vowel\n",
    "def is_vowel(char):\n",
    "    return char.lower() in 'aeiou'\n",
    "string = \"Hello World\"   # Given string\n",
    "no_vowels = ''.join(filter(lambda x: not is_vowel(x), string)) # Use filter() to remove vowels\n",
    "\n",
    "print(no_vowels)"
   ]
  },
  {
   "cell_type": "markdown",
   "id": "bcfa5e33-d019-4605-8472-80f97bb3ebce",
   "metadata": {},
   "source": [
    "## 11. Imagine an accounting routine used in a book shop. It works on a list with sublists, which look like this:"
   ]
  },
  {
   "attachments": {
    "ef9c1f1b-f371-407d-8d8b-5eed209035ca.jpg": {
     "image/jpeg": "[encoded data removed]"
    }
   },
   "cell_type": "markdown",
   "id": "0d46bb99-bbab-4526-82e1-47931415f682",
   "metadata": {},
   "source": [
    "![Q's 11.jpg](attachment:ef9c1f1b-f371-407d-8d8b-5eed209035ca.jpg)"
   ]
  },
  {
   "cell_type": "markdown",
   "id": "970f3fde-c417-4969-bd98-9461cfa928bb",
   "metadata": {},
   "source": [
    "## Write a Python program, which returns a list with 2-tuples. Each tuple consists of the order number and theproduct of the price per item and the quantity. The product should be increased by 10,- € if the value of theorder is smaller than 100,00 €.                                             Write a Python program using lambda and map."
   ]
  },
  {
   "cell_type": "code",
   "execution_count": 75,
   "id": "03c8a133-6b8c-4fdc-ae8b-1c921e6679c2",
   "metadata": {},
   "outputs": [
    {
     "name": "stdout",
     "output_type": "stream",
     "text": [
      "[(34587, 163.8), (98762, 284.0), (77226, 108.85000000000001), (88112, 84.97)]\n"
     ]
    }
   ],
   "source": [
    "# Define a list of orders with price per item and quantity\n",
    "orders = [\n",
    "    {\"order_number\": 34587, \"price_per_item\": 40.95, \"quantity\": 4},\n",
    "    {\"order_number\": 98762, \"price_per_item\": 56.80, \"quantity\": 5},\n",
    "    {\"order_number\": 77226, \"price_per_item\": 32.95, \"quantity\": 3},\n",
    "    {\"order_number\": 88112, \"price_per_item\": 24.99, \"quantity\": 3}]\n",
    "\n",
    "# Use map and lambda to calculate the product and apply the discount\n",
    "result = list(map(lambda x: (x[\"order_number\"], x[\"price_per_item\"] * x[\"quantity\"] + (10 if x[\"price_per_item\"] * x[\"quantity\"] < 100 else 0)),orders))\n",
    "print(result)"
   ]
  }
 ],
 "metadata": {
  "kernelspec": {
   "display_name": "Python 3 (ipykernel)",
   "language": "python",
   "name": "python3"
  },
  "language_info": {
   "codemirror_mode": {
    "name": "ipython",
    "version": 3
   },
   "file_extension": ".py",
   "mimetype": "text/x-python",
   "name": "python",
   "nbconvert_exporter": "python",
   "pygments_lexer": "ipython3",
   "version": "3.12.4"
  }
 },
 "nbformat": 4,
 "nbformat_minor": 5
}
